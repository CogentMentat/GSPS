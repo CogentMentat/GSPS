{
 "cells": [
  {
   "cell_type": "markdown",
   "metadata": {},
   "source": [
    "# Generative System Induction with 2D support"
   ]
  },
  {
   "cell_type": "markdown",
   "metadata": {},
   "source": [
    "## Preliminaries"
   ]
  },
  {
   "cell_type": "code",
   "execution_count": 1,
   "metadata": {
    "collapsed": true
   },
   "outputs": [],
   "source": [
    "import pandas as pd\n",
    "import numpy as np\n",
    "import matplotlib.pyplot as pyp\n",
    "import matplotlib as mpl\n",
    "import os\n",
    "import codecs\n",
    "import sys"
   ]
  },
  {
   "cell_type": "code",
   "execution_count": 2,
   "metadata": {
    "collapsed": true
   },
   "outputs": [],
   "source": [
    "%matplotlib inline"
   ]
  },
  {
   "cell_type": "code",
   "execution_count": 3,
   "metadata": {
    "collapsed": false
   },
   "outputs": [],
   "source": [
    "import rule30"
   ]
  },
  {
   "cell_type": "code",
   "execution_count": 88,
   "metadata": {
    "collapsed": true
   },
   "outputs": [],
   "source": [
    "rows = 60\n",
    "\n",
    "aut = rule30.automaton.Automaton(rows, rule=30)"
   ]
  },
  {
   "cell_type": "code",
   "execution_count": 89,
   "metadata": {
    "collapsed": true
   },
   "outputs": [],
   "source": [
    "hist_arr = aut.nparray()"
   ]
  },
  {
   "cell_type": "code",
   "execution_count": 104,
   "metadata": {
    "collapsed": false
   },
   "outputs": [
    {
     "data": {
      "text/plain": [
       "(60, 119)"
      ]
     },
     "execution_count": 104,
     "metadata": {},
     "output_type": "execute_result"
    }
   ],
   "source": [
    "hist_arr.shape"
   ]
  },
  {
   "cell_type": "code",
   "execution_count": 91,
   "metadata": {
    "collapsed": false
   },
   "outputs": [
    {
     "data": {
      "text/plain": [
       "array([[0, 0, 0, ..., 0, 0, 0],\n",
       "       [0, 0, 0, ..., 0, 0, 0],\n",
       "       [0, 0, 0, ..., 0, 0, 0],\n",
       "       ..., \n",
       "       [0, 0, 1, ..., 1, 0, 0],\n",
       "       [0, 1, 1, ..., 0, 1, 0],\n",
       "       [1, 1, 0, ..., 1, 1, 1]])"
      ]
     },
     "execution_count": 91,
     "metadata": {},
     "output_type": "execute_result"
    }
   ],
   "source": [
    "hist_arr*1"
   ]
  },
  {
   "cell_type": "code",
   "execution_count": 110,
   "metadata": {
    "collapsed": false
   },
   "outputs": [
    {
     "data": {
      "image/png": "[encoded data removed]",
      "text/plain": [
       "<PIL.Image.Image image mode=1 size=238x120 at 0x7FBDA96B66D8>"
      ]
     },
     "execution_count": 110,
     "metadata": {},
     "output_type": "execute_result"
    }
   ],
   "source": [
    "img = aut.image(2)\n",
    "img"
   ]
  },
  {
   "cell_type": "code",
   "execution_count": 111,
   "metadata": {
    "collapsed": true
   },
   "outputs": [],
   "source": [
    "img.save('rule30img_60rows_horz.png', format='png')"
   ]
  },
  {
   "cell_type": "code",
   "execution_count": 93,
   "metadata": {
    "collapsed": true
   },
   "outputs": [],
   "source": [
    "import PIL"
   ]
  },
  {
   "cell_type": "code",
   "execution_count": 112,
   "metadata": {
    "collapsed": false
   },
   "outputs": [
    {
     "data": {
      "image/png": "[encoded data removed]",
      "text/plain": [
       "<PIL.Image.Image image mode=1 size=120x238 at 0x7FBDA96B6780>"
      ]
     },
     "execution_count": 112,
     "metadata": {},
     "output_type": "execute_result"
    }
   ],
   "source": [
    "imgtranspose = img.transpose(PIL.Image.TRANSPOSE)\n",
    "imgtranspose"
   ]
  },
  {
   "cell_type": "code",
   "execution_count": 113,
   "metadata": {
    "collapsed": true
   },
   "outputs": [],
   "source": [
    "imgtranspose.save('rule30img_60rows.png', format='png')"
   ]
  },
  {
   "cell_type": "markdown",
   "metadata": {},
   "source": [
    "In the original specification of a generative system, Klir mandates that a mask cover all variables of a data system, spanning the 0th dimention of the data matrix.  In this notebook, I implement a \"2D\" mask that does *not* span all variables this way.\n",
    "\n",
    "The Generative_system class' get_generation_probabilities method takes a mask that occupies a portion (or all) of the data matrix' 0th dimension, holding variables.  Now, we're moving a mask in two dimensions over the CA data matrix: time (dimension 1) and x (the variable dimension 0).\n",
    "\n",
    "Given a maximum x length of 3 variables and 2 steps in time (3x2 rectangle), I generate one mask, then translate it across the top of the CA matrix, move down one variable row in x, scan across, etc.  The sampling variables produced for each step in the scan provide the ingredients for this mask's behavior system, before the next mask is generated and treated the same way.  The get_generation_probabilities method performs this progressive scanning motion automatically when the mask variable dimension size is less than the data matrix's variable dimension size."
   ]
  },
  {
   "cell_type": "code",
   "execution_count": 69,
   "metadata": {
    "collapsed": true
   },
   "outputs": [],
   "source": [
    "# Make sure the root directory of this repository is in the search path for Python modules.\n",
    "\n",
    "import GSPS.generative_system.generative_system as GSystem"
   ]
  },
  {
   "cell_type": "code",
   "execution_count": 120,
   "metadata": {
    "collapsed": true
   },
   "outputs": [],
   "source": [
    "# Make mask generator.\n",
    "\n",
    "maxdepth = 2\n",
    "vnum = 3\n",
    "\n",
    "MM = GSystem.M_matrix(vnum, maxdepth)\n",
    "\n",
    "data = hist_arr.T*1\n",
    "\n",
    "mgen = MM.mask_generator(increasing=True)"
   ]
  },
  {
   "cell_type": "code",
   "execution_count": 121,
   "metadata": {
    "collapsed": true
   },
   "outputs": [],
   "source": [
    "pot_gsystems = []\n",
    "for m in mgen:\n",
    "    \n",
    "    GSys = GSystem.Generative_system(*m)\n",
    "    GSys.compute_behavior_system(data)\n",
    "    pot_gsystems.append(GSys)"
   ]
  },
  {
   "cell_type": "code",
   "execution_count": 122,
   "metadata": {
    "collapsed": true
   },
   "outputs": [],
   "source": [
    "admissible = GSystem.find_admissible_behavior_systems(pot_gsystems)"
   ]
  },
  {
   "cell_type": "code",
   "execution_count": 123,
   "metadata": {
    "collapsed": false
   },
   "outputs": [
    {
     "data": {
      "text/plain": [
       "[6, 5, 4]"
      ]
     },
     "execution_count": 123,
     "metadata": {},
     "output_type": "execute_result"
    }
   ],
   "source": [
    "[admgs.complexity for admgs in admissible]"
   ]
  },
  {
   "cell_type": "code",
   "execution_count": 124,
   "metadata": {
    "collapsed": false
   },
   "outputs": [
    {
     "data": {
      "text/plain": [
       "[1.0230969438030528, 1.110577026577654, 1.4683999376366847]"
      ]
     },
     "execution_count": 124,
     "metadata": {},
     "output_type": "execute_result"
    }
   ],
   "source": [
    "[admgs.uncertainty for admgs in admissible]"
   ]
  },
  {
   "cell_type": "code",
   "execution_count": 126,
   "metadata": {
    "collapsed": false
   },
   "outputs": [
    {
     "name": "stdout",
     "output_type": "stream",
     "text": [
      "---\n",
      "[0 2 4]\n",
      "[1 3 5]\n",
      "---\n",
      "[2 4]\n",
      "[0 3 5]\n",
      "---\n",
      "[2]\n",
      "[0 3 4]\n"
     ]
    }
   ],
   "source": [
    "for admgs in admissible:\n",
    "    print('---')\n",
    "    print(ta[admgs.generating_maskinds])\n",
    "    print(ta[admgs.generated_maskinds])"
   ]
  },
  {
   "cell_type": "code",
   "execution_count": 99,
   "metadata": {
    "collapsed": false
   },
   "outputs": [
    {
     "data": {
      "text/plain": [
       "array([[0, 1],\n",
       "       [2, 3],\n",
       "       [4, 5]])"
      ]
     },
     "execution_count": 99,
     "metadata": {},
     "output_type": "execute_result"
    }
   ],
   "source": [
    "ta"
   ]
  },
  {
   "cell_type": "markdown",
   "metadata": {},
   "source": [
    "So the generating mask isn't capable of representing the CA rule at all.  If it was, we would see an uncertainty of 0."
   ]
  },
  {
   "cell_type": "markdown",
   "metadata": {},
   "source": [
    "## Using altered generating mask partitioning\n",
    "\n",
    "Here I violate the \"generated leading edge\" rule, implemented with the `mask_generator_onlymaxbackdropgenerating` method."
   ]
  },
  {
   "cell_type": "code",
   "execution_count": 127,
   "metadata": {
    "collapsed": true
   },
   "outputs": [],
   "source": [
    "# Make mask generator.\n",
    "\n",
    "maxdepth = 2\n",
    "vnum = 3\n",
    "\n",
    "MM = GSystem.M_matrix(vnum, maxdepth)\n",
    "\n",
    "data = hist_arr.T*1\n",
    "\n",
    "mgenalt = MM.mask_generator_onlymaxbackdropgenerating(increasing=True)"
   ]
  },
  {
   "cell_type": "code",
   "execution_count": 128,
   "metadata": {
    "collapsed": false
   },
   "outputs": [],
   "source": [
    "pot_gsystems = []\n",
    "for mi, m in enumerate(mgenalt):\n",
    "    \n",
    "    GSys = GSystem.Generative_system(*m)\n",
    "    GSys.compute_behavior_system(data)\n",
    "    pot_gsystems.append(GSys)"
   ]
  },
  {
   "cell_type": "code",
   "execution_count": 129,
   "metadata": {
    "collapsed": true
   },
   "outputs": [],
   "source": [
    "admissible = GSystem.find_admissible_behavior_systems(pot_gsystems)"
   ]
  },
  {
   "cell_type": "code",
   "execution_count": 130,
   "metadata": {
    "collapsed": false
   },
   "outputs": [
    {
     "data": {
      "text/plain": [
       "[0.0, 0.41247526237856025]"
      ]
     },
     "execution_count": 130,
     "metadata": {},
     "output_type": "execute_result"
    }
   ],
   "source": [
    "[admgs.uncertainty for admgs in admissible]"
   ]
  },
  {
   "cell_type": "code",
   "execution_count": 131,
   "metadata": {
    "collapsed": false
   },
   "outputs": [
    {
     "data": {
      "text/plain": [
       "[4, 3]"
      ]
     },
     "execution_count": 131,
     "metadata": {},
     "output_type": "execute_result"
    }
   ],
   "source": [
    "[admgs.complexity for admgs in admissible]"
   ]
  },
  {
   "cell_type": "code",
   "execution_count": 133,
   "metadata": {
    "collapsed": false
   },
   "outputs": [
    {
     "name": "stdout",
     "output_type": "stream",
     "text": [
      "---\n",
      "[0 2 4]\n",
      "[3]\n",
      "---\n",
      "[0 4]\n",
      "[3]\n"
     ]
    }
   ],
   "source": [
    "for admgs in admissible:\n",
    "    print('---')\n",
    "    print(ta[admgs.generating_maskinds])\n",
    "    print(ta[admgs.generated_maskinds])"
   ]
  },
  {
   "cell_type": "code",
   "execution_count": 134,
   "metadata": {
    "collapsed": false
   },
   "outputs": [
    {
     "data": {
      "text/plain": [
       "array([[0, 1],\n",
       "       [2, 3],\n",
       "       [4, 5]])"
      ]
     },
     "execution_count": 134,
     "metadata": {},
     "output_type": "execute_result"
    }
   ],
   "source": [
    "ta"
   ]
  }
 ],
 "metadata": {
  "kernelspec": {
   "display_name": "Python 3",
   "language": "python",
   "name": "python3"
  },
  "language_info": {
   "codemirror_mode": {
    "name": "ipython",
    "version": 3
   },
   "file_extension": ".py",
   "mimetype": "text/x-python",
   "name": "python",
   "nbconvert_exporter": "python",
   "pygments_lexer": "ipython3",
   "version": "3.6.0"
  }
 },
 "nbformat": 4,
 "nbformat_minor": 2
}
